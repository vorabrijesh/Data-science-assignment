{
 "cells": [
  {
   "cell_type": "markdown",
   "metadata": {},
   "source": [
    "# Image preprocessing \n",
    "\n",
    "This assignment is to give hands on experience in text pre processing.\n",
    "\n",
    "**Zip file attached with this contains 10 images of different sizes. Your task is to do data preprocessing**\n",
    "\n",
    "<dl>\n",
    "<dd>1) make all images to equal size of 256X256 (use padding if required. Do not stretch images now). Store these in input folder. These 10 images will be used for next processes</dd>\n",
    "<dd>3) Perform histogram equalization of each input image and store in output folder</dd>\n",
    "<dd>4) Perform sharping of images and store in Output folder</dd>\n",
    "<dd>5) Perform blurring of images and store in output folder</dd>\n",
    "<dd>6) Shift each image Vertically or Horizontally by 15% and store in \"intermediate\" folder </dd> \n",
    "<dd>7) Create 5 new images from each image from \"intermediate\" folder by doing random rotations between -30 to +30 degrees. Store these images in \"output\" folder </dd>\n",
    "<dd>8) Perform horizontal and vertical flips of each image from \"intermediate\" folder. Store these images in \"output\" folder</dd>\n",
    "</dl>\n"
   ]
  },
  {
   "cell_type": "code",
   "execution_count": 1,
   "metadata": {},
   "outputs": [],
   "source": [
    "# import\n",
    "\n"
   ]
  },
  {
   "cell_type": "markdown",
   "metadata": {},
   "source": [
    "## Extract images\n",
    "\n",
    "Extract images"
   ]
  },
  {
   "cell_type": "code",
   "execution_count": null,
   "metadata": {},
   "outputs": [],
   "source": [
    "    "
   ]
  },
  {
   "cell_type": "markdown",
   "metadata": {},
   "source": [
    "## make all images to equal size of 256X256\n",
    "\n",
    "use padding if required. Do not stretch images now.\n",
    "\n",
    "Store these in a folder with name \"input\" . These 10 images will be used for next processes"
   ]
  },
  {
   "cell_type": "code",
   "execution_count": 2,
   "metadata": {},
   "outputs": [],
   "source": [
    "# code for making images to 256 X 256\n",
    "\n"
   ]
  },
  {
   "cell_type": "markdown",
   "metadata": {},
   "source": [
    "## histogram equalization\n",
    "\n",
    "perform histogram equalization of each image in folder named \"intermediate\""
   ]
  },
  {
   "cell_type": "code",
   "execution_count": 3,
   "metadata": {},
   "outputs": [],
   "source": [
    "# code for histogram equalization\n",
    "\n"
   ]
  },
  {
   "cell_type": "markdown",
   "metadata": {},
   "source": [
    "## sharping\n",
    "\n",
    "Perform sharpening of each image in folder named \"intermediate\""
   ]
  },
  {
   "cell_type": "code",
   "execution_count": 4,
   "metadata": {},
   "outputs": [],
   "source": [
    "# code for sharpening"
   ]
  },
  {
   "cell_type": "markdown",
   "metadata": {},
   "source": [
    "## blurring\n",
    "\n",
    "Perform blurring of each image in folder named \"intermediate\""
   ]
  },
  {
   "cell_type": "code",
   "execution_count": 5,
   "metadata": {},
   "outputs": [],
   "source": [
    "# code for blurring\n",
    "\n",
    "\n",
    "# use gaussian kernel\n",
    "\n",
    "\n",
    "# Use Bilateral blurring\n"
   ]
  },
  {
   "cell_type": "code",
   "execution_count": null,
   "metadata": {},
   "outputs": [],
   "source": []
  },
  {
   "cell_type": "markdown",
   "metadata": {},
   "source": [
    "## Shifting images\n",
    "\n",
    "Shift each image from \"intermediate\" folder  Vertically or Horizontally by 15% and store in output folder"
   ]
  },
  {
   "cell_type": "code",
   "execution_count": 6,
   "metadata": {},
   "outputs": [],
   "source": [
    "# code for shifting\n",
    "# Fill missing pixels with the color of the nearest pixel\n",
    "\n",
    "\n"
   ]
  },
  {
   "cell_type": "markdown",
   "metadata": {},
   "source": [
    "## Rotating images\n",
    "\n",
    "Create 5 new images from each image from \"intermediate\" folder by doing random rotations between -30 to +30 degrees. Store these images in \"output\" folder"
   ]
  },
  {
   "cell_type": "code",
   "execution_count": 7,
   "metadata": {},
   "outputs": [],
   "source": [
    "# code for random rotations"
   ]
  },
  {
   "cell_type": "markdown",
   "metadata": {},
   "source": [
    "## flipping\n",
    "\n",
    "Perform horizontal and vertical flips of each image from \"intermediate\" folder. Store these images in \"output\" "
   ]
  },
  {
   "cell_type": "code",
   "execution_count": 8,
   "metadata": {},
   "outputs": [],
   "source": [
    "# code for flipping"
   ]
  },
  {
   "cell_type": "markdown",
   "metadata": {},
   "source": [
    "## Not mandatory \n",
    "\n",
    "Can perform some mathematical operations (such as addition, subtraction, multiplication), change of colour etc to the images in random and can increase the number of images in output folder."
   ]
  },
  {
   "cell_type": "code",
   "execution_count": 9,
   "metadata": {},
   "outputs": [],
   "source": [
    "# optional code"
   ]
  }
 ],
 "metadata": {
  "anaconda-cloud": {},
  "kernelspec": {
   "display_name": "Python 3",
   "language": "python",
   "name": "python3"
  },
  "language_info": {
   "codemirror_mode": {
    "name": "ipython",
    "version": 3
   },
   "file_extension": ".py",
   "mimetype": "text/x-python",
   "name": "python",
   "nbconvert_exporter": "python",
   "pygments_lexer": "ipython3",
   "version": "3.7.1"
  }
 },
 "nbformat": 4,
 "nbformat_minor": 1
}
